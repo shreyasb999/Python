{
 "cells": [
  {
   "cell_type": "markdown",
   "metadata": {},
   "source": [
    "## Problem Statement"
   ]
  },
  {
   "cell_type": "markdown",
   "metadata": {},
   "source": [
    "Q.1 Write a Python Program to implement your own myreduce() function which works exactly like\n",
    "Python's built-in function reduce()\n"
   ]
  },
  {
   "cell_type": "code",
   "execution_count": 1,
   "metadata": {
    "scrolled": true
   },
   "outputs": [
    {
     "name": "stdout",
     "output_type": "stream",
     "text": [
      "15\n",
      "120\n",
      "75\n"
     ]
    }
   ],
   "source": [
    "\n",
    "def myreduce(fun,seq):\n",
    "    result = seq[0]\n",
    "    for i in seq[1:]:\n",
    "        result = fun(result, i)\n",
    "    return result\n",
    "\n",
    "def add_func(a,b):\n",
    "    return(a+b)\n",
    "\n",
    "def mult_func(a,b):\n",
    "    return(a*b)\n",
    "\n",
    "def max_func(a,b):\n",
    "    if(a>b):\n",
    "        return a\n",
    "    else:\n",
    "        return b\n",
    "    \n",
    "\n",
    "list1=[1,2,3,4,5]\n",
    "list2=[3,75,35,63,28]\n",
    "x = myreduce(add_func,list1)\n",
    "print(x)\n",
    "y = myreduce(mult_func,list1)\n",
    "print(y)\n",
    "z = myreduce(max_func,list2)\n",
    "print(z)\n",
    "\n"
   ]
  },
  {
   "cell_type": "markdown",
   "metadata": {},
   "source": [
    "Q.2 Write a Python program to implement your own myfilter() function which works exactly like\n",
    "Python's built-in function filter()"
   ]
  },
  {
   "cell_type": "code",
   "execution_count": 2,
   "metadata": {},
   "outputs": [
    {
     "name": "stdout",
     "output_type": "stream",
     "text": [
      "list= [1, 2, 3, 4, 5, 6, 7, 8, 9, 10, 11, 12, 13, 14, 15, 16, 17, 18, 19, 20]\n",
      "Filtered Result 1= [2, 4, 6, 8, 10, 12, 14, 16, 18, 20]\n",
      "Filtered Result 2 [1, 3, 5, 7, 9, 11, 13, 15, 17, 19]\n"
     ]
    }
   ],
   "source": [
    "def myfilter(fun,seq):\n",
    "    filtered=[]\n",
    "    for i in seq:\n",
    "        if(fun(i)==True):\n",
    "            filtered.append(i)\n",
    "            \n",
    "    return(filtered)\n",
    "    \n",
    "def Even(a):\n",
    "    if(a%2==0):\n",
    "        return True\n",
    "    else:\n",
    "        return False\n",
    "    \n",
    "list1=[x for x in range(1,21)]\n",
    "print(\"list=\",list1)\n",
    "\n",
    "result1 = myfilter(Even,list1)\n",
    "print(\"Filtered Result 1=\",result1)\n",
    "\n",
    "result2=myfilter(lambda x:x%2==1,list1)\n",
    "print(\"Filtered Result 2\",result2)"
   ]
  },
  {
   "cell_type": "markdown",
   "metadata": {},
   "source": [
    "Q.3 Implement List comprehensions to produce the following lists.\n",
    "   Write List comprehensions to produce the following Lists\n",
    "   \n",
    "    ['A', 'C', 'A', 'D', 'G', 'I', ’L’, ‘ D’]\n",
    "   \n",
    "    ['x', 'xx', 'xxx', 'xxxx', 'y', 'yy', 'yyy', 'yyyy', 'z', 'zz', 'zzz', 'zzzz']\n",
    "\n",
    "    ['x', 'y', 'z', 'xx', 'yy', 'zz', 'xx', 'yy', 'zz', 'xxxx', 'yyyy', 'zzzz']\n",
    "    \n",
    "    [[2], [3], [4], [3], [4], [5], [4], [5], [6]]\n",
    "\n",
    "    [[2, 3, 4, 5], [3, 4, 5, 6], [4, 5, 6, 7], [5, 6, 7, 8]]\n",
    "\n",
    "    [(1, 1), (2, 1), (3, 1), (1, 2), (2, 2), (3, 2), (1, 3), (2, 3), (3, 3)]"
   ]
  },
  {
   "cell_type": "code",
   "execution_count": 3,
   "metadata": {},
   "outputs": [
    {
     "name": "stdout",
     "output_type": "stream",
     "text": [
      "['A', 'C', 'A', 'D', 'G', 'I', 'L', 'D']\n",
      "['x', 'xx', 'xxx', 'xxxx', 'y', 'yy', 'yyy', 'yyyy', 'z', 'zz', 'zzz', 'zzzz']\n",
      "['x', 'y', 'z', 'xx', 'yy', 'zz', 'xxx', 'yyy', 'zzz', 'xxxx', 'yyyy', 'zzzz']\n",
      "[[2], [3], [4], [3], [4], [5], [4], [5], [6]]\n",
      "[[2, 3, 4, 5], [3, 4, 5, 6], [4, 5, 6, 7], [5, 6, 7, 8]]\n",
      "[(1, 1), (2, 1), (3, 1), (1, 2), (2, 2), (3, 2), (1, 3), (2, 3), (3, 3)]\n"
     ]
    }
   ],
   "source": [
    "list1=[a for a in 'ACADGILD']\n",
    "print(list1)\n",
    "list2=[i*n for i in 'xyz' for n in range(1,5)]\n",
    "print(list2)\n",
    "list3=[i*n for n in range(1,5) for i in 'xyz']\n",
    "print(list3)\n",
    "list4=[[n+i] for n in [2,3,4] for i in range(0,3) ]\n",
    "print(list4)\n",
    "list5=[[n+i for n in [2,3,4,5]] for i in range(0,4)]\n",
    "print(list5)\n",
    "list6=[(i,n) for n in [1,2,3] for i in [1,2,3]]\n",
    "print(list6)"
   ]
  },
  {
   "cell_type": "markdown",
   "metadata": {},
   "source": [
    "Q.4 Implement a function longestWord() that takes a list of words and returns the longest one."
   ]
  },
  {
   "cell_type": "code",
   "execution_count": 4,
   "metadata": {},
   "outputs": [
    {
     "name": "stdout",
     "output_type": "stream",
     "text": [
      "Longest string:  javascript\n"
     ]
    }
   ],
   "source": [
    "def longestWord(L):\n",
    "    word=L[0]\n",
    "    for i in L:\n",
    "        if (len(i)>len(word)):\n",
    "            word=i\n",
    "    return(word)\n",
    "\n",
    "list1=['c','c++','python','java','javascript','c#']\n",
    "result=longestWord(list1)\n",
    "print(\"Longest string: \",result)"
   ]
  },
  {
   "cell_type": "markdown",
   "metadata": {},
   "source": [
    "Q.5 Write a Python Program(with class concepts) to find the area of the triangle using the below\n",
    "formula.\n",
    "\n",
    "area = (s*(s-a)*(s-b)*(s-c)) ** 0.5\n",
    "\n",
    "Function to take the length of the sides of triangle from user should be defined in the parent\n",
    "class and function to calculate the area should be defined in subclass."
   ]
  },
  {
   "cell_type": "code",
   "execution_count": 5,
   "metadata": {},
   "outputs": [
    {
     "name": "stdout",
     "output_type": "stream",
     "text": [
      "Enter sides of Triangle:\n",
      "a:30\n",
      "b:40\n",
      "c:50\n",
      "Area of Triangle: 600.0\n"
     ]
    }
   ],
   "source": [
    "class Parent:\n",
    "    def __init__(self):\n",
    "        print(\"Enter sides of Triangle:\")\n",
    "        self.a=float(input(\"a:\"))        \n",
    "        self.b=float(input(\"b:\"))\n",
    "        self.c=float(input(\"c:\"))\n",
    "    \n",
    "class Triangle(Parent):\n",
    "    \n",
    "    def __init__(self):\n",
    "        Parent.__init__(self)\n",
    "        \n",
    "    def area(self):\n",
    "        s=(self.a+self.b+self.c)/2\n",
    "        tri_area=(s*(s-self.a)*(s-self.b)*(s-self.c))**0.5\n",
    "        return(tri_area)\n",
    "obj=Triangle()\n",
    "print(\"Area of Triangle:\",obj.area())"
   ]
  },
  {
   "cell_type": "markdown",
   "metadata": {},
   "source": [
    "Q.6 Write a function filter_long_words() that takes a list of words and an integer n and returns the list\n",
    "of words that are longer than n."
   ]
  },
  {
   "cell_type": "code",
   "execution_count": 6,
   "metadata": {},
   "outputs": [
    {
     "name": "stdout",
     "output_type": "stream",
     "text": [
      "['python', 'java', 'javascript', 'ruby', 'scala']\n"
     ]
    }
   ],
   "source": [
    "def filter_long_words(L,n):\n",
    "    l=[]\n",
    "    for i in L:\n",
    "        if(len(i)>n):\n",
    "            l.append(i)\n",
    "    return(l)\n",
    "\n",
    "list1=['c','c++','python','java','javascript','c#','ruby','scala']\n",
    "result=filter_long_words(list1,3)\n",
    "print(result)"
   ]
  },
  {
   "cell_type": "markdown",
   "metadata": {},
   "source": [
    "Q.7 Write a Python program using function concept that maps list of words into a list of integers\n",
    "representing the lengths of the corresponding words.\n",
    "    \n",
    "    Hint: If a list [ ab,cde,erty] is passed on to the python function output should come as [2,3,4]\n",
    "    Here 2,3 and 4 are the lengths of the words in the list."
   ]
  },
  {
   "cell_type": "code",
   "execution_count": 7,
   "metadata": {},
   "outputs": [
    {
     "name": "stdout",
     "output_type": "stream",
     "text": [
      "Words: ['python', 'java', 'javascript', 'shreyas', 'laptop']\n",
      "Corresponding Lengths: [6, 4, 10, 7, 6]\n"
     ]
    }
   ],
   "source": [
    "def length(L):\n",
    "    \n",
    "    m=list(map(lambda x:len(x),L))\n",
    "    return(m)\n",
    "\n",
    "list_1=['python','java','javascript','shreyas','laptop']\n",
    "res=length(list_1)\n",
    "print(\"Words:\",list_1)\n",
    "print(\"Corresponding Lengths:\",res)"
   ]
  },
  {
   "cell_type": "markdown",
   "metadata": {},
   "source": [
    "Q.8 Write a Python function which takes a character (i.e. a string of length 1) and returns True if it is\n",
    "a vowel, False otherwise."
   ]
  },
  {
   "cell_type": "code",
   "execution_count": 8,
   "metadata": {},
   "outputs": [
    {
     "name": "stdout",
     "output_type": "stream",
     "text": [
      "False\n",
      "True\n",
      "True\n",
      "False\n"
     ]
    }
   ],
   "source": [
    "def vowel(s):\n",
    "    if(s in ['a','e','i','o','u']):\n",
    "        return True\n",
    "    else:\n",
    "        return False\n",
    "    \n",
    "result1=vowel('s')\n",
    "print(result1)\n",
    "result2=vowel('a')\n",
    "print(result2)\n",
    "result3=vowel('o')\n",
    "print(result3)\n",
    "result4=vowel('x')\n",
    "print(result4)"
   ]
  },
  {
   "cell_type": "markdown",
   "metadata": {},
   "source": [
    "## Great job!"
   ]
  }
 ],
 "metadata": {
  "kernelspec": {
   "display_name": "Python 3",
   "language": "python",
   "name": "python3"
  },
  "language_info": {
   "codemirror_mode": {
    "name": "ipython",
    "version": 3
   },
   "file_extension": ".py",
   "mimetype": "text/x-python",
   "name": "python",
   "nbconvert_exporter": "python",
   "pygments_lexer": "ipython3",
   "version": "3.7.4"
  }
 },
 "nbformat": 4,
 "nbformat_minor": 2
}
