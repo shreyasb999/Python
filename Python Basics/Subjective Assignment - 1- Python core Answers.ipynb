{
 "cells": [
  {
   "cell_type": "markdown",
   "metadata": {},
   "source": [
    "Q1. Write a Python program to get the string from the given string where\n",
    "all the occurrence of its first char has been changed to '$,' except first\n",
    "char itself?\n",
    "\n",
    "    Sample String: 'prospect'\n",
    "    Expected Result : 'pros$ect'\n"
   ]
  },
  {
   "cell_type": "code",
   "execution_count": 1,
   "metadata": {},
   "outputs": [
    {
     "name": "stdout",
     "output_type": "stream",
     "text": [
      "shreya$\n",
      "recu$$ent\n"
     ]
    }
   ],
   "source": [
    "def func(S):\n",
    "    first_char=S[0]\n",
    "    temp=list(S)\n",
    "    \n",
    "    for i in range(1,len(S)):\n",
    "        if(S[i]==first_char):\n",
    "            temp[i]='$'\n",
    "            \n",
    "    final=\"\"\n",
    "    \n",
    "    for ele in temp:\n",
    "        final+=ele\n",
    "        \n",
    "    return(final)\n",
    "\n",
    "ex1=func('shreyas') \n",
    "print(ex1)\n",
    "ex2=func('recurrent') #first char is 'r'.All other occurrences of 'r' will be replaced by $ , except the first occurrence.\n",
    "print(ex2)"
   ]
  },
  {
   "cell_type": "markdown",
   "metadata": {},
   "source": [
    "Q2. Write a Python program to get the single string from the two given\n",
    "strings, and separated by the space and swap the first two characters of\n",
    "each string?\n",
    "\n",
    "    Sample String : 'abc', 'xyz'.\n",
    "    Expected Result: 'xyc abz'"
   ]
  },
  {
   "cell_type": "code",
   "execution_count": 2,
   "metadata": {},
   "outputs": [
    {
     "name": "stdout",
     "output_type": "stream",
     "text": [
      "xyc abz\n",
      "pampy nundas\n"
     ]
    }
   ],
   "source": [
    "def func(str1,str2):\n",
    "    final1 = str2[:2] + str1[2:]\n",
    "    final2 = str1[:2] + str2[2:]\n",
    "    \n",
    "    return ([final1,final2])\n",
    "\n",
    "ex1=func('abc','xyz')\n",
    "ex2=func('numpy','pandas')\n",
    "print(ex1[0],ex1[1])\n",
    "print(ex2[0],ex2[1])"
   ]
  },
  {
   "cell_type": "markdown",
   "metadata": {},
   "source": [
    "Q3. Write the Python program to add 'ing' at the end of the given string\n",
    "(length of the string should be at least 3). If given string already ends\n",
    "with 'ing,' then add 'ly' instead. If string length of the given string is less\n",
    "than 3, leave it unchanged?\n",
    "\n",
    "\n",
    "    Sample string: ' abc '\n",
    "    Expected result: ' abcing '\n",
    "    Sample string: ' string '\n",
    "    Expected result: ' stringly '\n"
   ]
  },
  {
   "cell_type": "code",
   "execution_count": 3,
   "metadata": {},
   "outputs": [
    {
     "name": "stdout",
     "output_type": "stream",
     "text": [
      "ab\n",
      "flying\n",
      "interestingly\n"
     ]
    }
   ],
   "source": [
    "def func(s):\n",
    "    \n",
    "    temp=list(s)\n",
    "    if(len(s)<3):\n",
    "        return(s)\n",
    "    elif(len(s)>=3):\n",
    "        if (s.endswith(\"ing\")):\n",
    "            return (s + \"ly\")\n",
    "            \n",
    "        else:\n",
    "            return (s + \"ing\")\n",
    "            \n",
    "\n",
    "ex1=func('ab')\n",
    "print(ex1)\n",
    "ex2=func('fly')\n",
    "print(ex2)\n",
    "ex3=func('interesting')\n",
    "print(ex3)"
   ]
  },
  {
   "cell_type": "markdown",
   "metadata": {},
   "source": [
    "Q4. Write the Python program to find the first appearance of the\n",
    "substring 'not' and 'poor' from the given string, if 'not' follows the 'poor',\n",
    "replace the whole 'not'...' poor' substring with 'good'.Return the resulting\n",
    "string.\n",
    "\n",
    "    Sample string: 'The lyrics are not that poor!'\n",
    "    'The lyrics are poor!'\n",
    "    Expected Result: 'The lyrics are good!'\n",
    "    'The lyrics are poor!'"
   ]
  },
  {
   "cell_type": "code",
   "execution_count": 4,
   "metadata": {},
   "outputs": [
    {
     "name": "stdout",
     "output_type": "stream",
     "text": [
      "Input :  The lyrics are not that poor!\n",
      "Output :  The lyrics are good!\n",
      "Input :  The lyrics are poor!\n",
      "Output :  The lyrics are poor!\n"
     ]
    }
   ],
   "source": [
    "def func(s):\n",
    "    not_index=s.find('not')\n",
    "    poor_index=s.find('poor')\n",
    "    temp=list(s)\n",
    "    final=''\n",
    "    \n",
    "    if('not' in s and 'poor' in s):\n",
    "        if(not_index < poor_index):\n",
    "            temp[not_index:(poor_index + 4)]='good'\n",
    "        \n",
    "    for ele in temp:\n",
    "        final+=ele\n",
    "        \n",
    "    return(final)\n",
    "    \n",
    "ex1='The lyrics are not that poor!'\n",
    "res1=func(ex1)\n",
    "ex2= 'The lyrics are poor!'\n",
    "res2=func(ex2)\n",
    "print(\"Input : \",ex1)\n",
    "print(\"Output : \", res1)\n",
    "print(\"Input : \",ex2)\n",
    "print(\"Output : \", res2)"
   ]
  },
  {
   "cell_type": "markdown",
   "metadata": {},
   "source": [
    "Q5. Write the Python program to remove the characters which have odd\n",
    "index values of a given string."
   ]
  },
  {
   "cell_type": "code",
   "execution_count": 5,
   "metadata": {},
   "outputs": [
    {
     "name": "stdout",
     "output_type": "stream",
     "text": [
      "Input :  Python program\n",
      "Output :  Pto rga\n"
     ]
    }
   ],
   "source": [
    "def func(s):\n",
    "    final=s[0:len(s):2]\n",
    "    return(final)\n",
    "\n",
    "ex1='Python program'\n",
    "res1=func(ex1)\n",
    "print(\"Input : \",ex1)\n",
    "print(\"Output : \", res1)"
   ]
  },
  {
   "cell_type": "markdown",
   "metadata": {},
   "source": [
    "Q6. Write the python program to print the following floating numbers up\n",
    "to 2 decimal places?"
   ]
  },
  {
   "cell_type": "code",
   "execution_count": 6,
   "metadata": {},
   "outputs": [
    {
     "name": "stdout",
     "output_type": "stream",
     "text": [
      "Input :  3.14159265359\n",
      "Output :  3.14\n",
      "Input :  321.4683648479484\n",
      "Output :  321.46\n",
      "Input :  3.14159265359\n",
      "Output :  3.14\n"
     ]
    }
   ],
   "source": [
    "#using custom function\n",
    "def round_to_2(f):\n",
    "    temp=str(f)\n",
    "    dot_index=temp.find(\".\")\n",
    "    temp1=temp[0:dot_index+3]\n",
    "    final=float(temp1)\n",
    "    return(final)\n",
    "\n",
    "ex1=3.14159265359\n",
    "res1=round_to_2(ex1)\n",
    "print(\"Input : \",ex1)\n",
    "print(\"Output : \", res1)\n",
    "ex2=321.4683648479484\n",
    "res2=round_to_2(ex2)\n",
    "print(\"Input : \",ex2)\n",
    "print(\"Output : \", res2)\n",
    "\n",
    "#using in-built function\n",
    "print(\"Input : \",ex1)\n",
    "print(\"Output : \",round(ex1,2))"
   ]
  },
  {
   "cell_type": "markdown",
   "metadata": {},
   "source": [
    "Q7. Write the Python program to format a number with a percentage?"
   ]
  },
  {
   "cell_type": "code",
   "execution_count": 7,
   "metadata": {},
   "outputs": [
    {
     "name": "stdout",
     "output_type": "stream",
     "text": [
      "Original Number:  0.685\n",
      "Formatted Number with percentage: 68.50%\n",
      "Original Number:  -0.208\n",
      "Formatted Number with percentage: -20.80%\n"
     ]
    }
   ],
   "source": [
    "ex1 = 0.685\n",
    "ex2 = -0.208\n",
    "print(\"Original Number: \", ex1)\n",
    "print(\"Formatted Number with percentage: \"+\"{:.2%}\".format(ex1));\n",
    "print(\"Original Number: \", ex2)\n",
    "print(\"Formatted Number with percentage: \"+\"{:.2%}\".format(ex2));"
   ]
  },
  {
   "cell_type": "markdown",
   "metadata": {},
   "source": [
    "Q8. Write the Python program to count occurrences of a substring in a\n",
    "String?"
   ]
  },
  {
   "cell_type": "code",
   "execution_count": 8,
   "metadata": {},
   "outputs": [
    {
     "name": "stdout",
     "output_type": "stream",
     "text": [
      "feel :  2 occurrences\n",
      "out of our reach :  1 occurrences\n"
     ]
    }
   ],
   "source": [
    "ex1 = 'I feel like we’re falling. A lifeline just out of our reach. I feel our collapsing; The arrogant numb to our needs'\n",
    "res1=ex1.count('feel')\n",
    "res2=ex1.count('out of our reach')\n",
    "print(\"feel : \",res1,\"occurrences\")\n",
    "print(\"out of our reach : \",res2,\"occurrences\")"
   ]
  },
  {
   "cell_type": "markdown",
   "metadata": {},
   "source": [
    "Q9. Write the Python program to count repeated characters in a string.\n",
    "\n",
    "    Sample string: ' thequickbrownjumpsoverthelazydog '\n",
    "    \n",
    "    Expected output:\n",
    "    o 3\n",
    "    e 3\n",
    "    u 2\n",
    "    h 2\n",
    "    r 2\n",
    "    t 2"
   ]
  },
  {
   "cell_type": "code",
   "execution_count": 9,
   "metadata": {},
   "outputs": [
    {
     "name": "stdout",
     "output_type": "stream",
     "text": [
      "           Count\n",
      "Character       \n",
      "o              3\n",
      "e              3\n",
      "u              2\n",
      "t              2\n",
      "r              2\n",
      "h              2\n"
     ]
    }
   ],
   "source": [
    "import pandas as pd\n",
    "\n",
    "def func(s):\n",
    "    char_dict=dict()\n",
    "    \n",
    "    for char in s:\n",
    "        count=0\n",
    "        if(char not in char_dict):\n",
    "            for i in s:\n",
    "                if(char==i):\n",
    "                    count+=1\n",
    "        if(count>1):\n",
    "            char_dict[char]=count\n",
    "            \n",
    "    x=sorted(char_dict.items(), key = lambda kv:(kv[1], kv[0]),reverse=True)\n",
    "    sorted_char_list=list((p[0])for p in x)\n",
    "    sorted_count_list=list((p[1])for p in x)\n",
    "    df=pd.DataFrame(list(zip(sorted_char_list,sorted_count_list)),columns=['Character','Count']).set_index('Character')\n",
    "    print(df)\n",
    "    \n",
    "ex1='thequickbrownjumpsoverthelazydog'\n",
    "func(ex1)\n"
   ]
  },
  {
   "cell_type": "code",
   "execution_count": 10,
   "metadata": {},
   "outputs": [
    {
     "name": "stdout",
     "output_type": "stream",
     "text": [
      "           Count\n",
      "Character       \n",
      "d              5\n",
      "s              4\n",
      "y              3\n",
      "u              3\n",
      "o              3\n",
      "c              3\n",
      "w              2\n"
     ]
    }
   ],
   "source": [
    "ex2='qyscuowdyvuwdoysadsdcsdcou'\n",
    "func(ex2)"
   ]
  },
  {
   "cell_type": "markdown",
   "metadata": {},
   "source": [
    "Q10. Write the Python program to print the square and cube symbol in\n",
    "the area of a rectangle and volume of a cylinder?\n",
    "\n",
    "    Sample outputThe area of the rectangle is 1256.66cm2\n",
    "    The volume of the cylinder is 1254.725cm3\n"
   ]
  },
  {
   "cell_type": "code",
   "execution_count": 11,
   "metadata": {},
   "outputs": [
    {
     "name": "stdout",
     "output_type": "stream",
     "text": [
      "The area of the rectangle is 1256.66cm²\n",
      "The volume of the rectangle is 1254.725cm³\n"
     ]
    }
   ],
   "source": [
    "print('The area of the rectangle is 1256.66cm\\u00b2')\n",
    "print('The volume of the rectangle is 1254.725cm\\u00b3')"
   ]
  },
  {
   "cell_type": "markdown",
   "metadata": {},
   "source": [
    "Q11. Write the Python program to check if a string contains all letters of\n",
    "the alphabet?"
   ]
  },
  {
   "cell_type": "code",
   "execution_count": 12,
   "metadata": {},
   "outputs": [
    {
     "name": "stdout",
     "output_type": "stream",
     "text": [
      "True\n",
      "False\n"
     ]
    }
   ],
   "source": [
    "import string\n",
    "\n",
    "def func(s):\n",
    "    lower=string.ascii_lowercase\n",
    "    count=0\n",
    "    for c in lower:\n",
    "        if(c in s.lower()):\n",
    "            count+=1\n",
    "            \n",
    "    return(count==26)\n",
    "\n",
    "ex1='abcdefghijklmnopqrstuvwxyz'\n",
    "print(func(ex1))\n",
    "ex2='wbidyfbedw'\n",
    "print(func(ex2))"
   ]
  },
  {
   "cell_type": "markdown",
   "metadata": {},
   "source": [
    "Q12. Write the Python program to find the second most repeated word\n",
    "in a given string?"
   ]
  },
  {
   "cell_type": "code",
   "execution_count": 13,
   "metadata": {},
   "outputs": [
    {
     "name": "stdout",
     "output_type": "stream",
     "text": [
      "java\n"
     ]
    }
   ],
   "source": [
    "def func(s):\n",
    "    word_list=s.split()\n",
    "    word_count_dict=dict()\n",
    "    \n",
    "    for word in word_list:\n",
    "        \n",
    "        if(word not in word_count_dict.keys()):\n",
    "            word_count_dict[word]=1\n",
    "            \n",
    "        else:\n",
    "            word_count_dict[word]+=1\n",
    "            \n",
    "    freq2=sorted(set(word_count_dict.values()),reverse=True)[1]\n",
    "    \n",
    "    for word,count in word_count_dict.items():\n",
    "        if count==freq2:\n",
    "            return(word)\n",
    "\n",
    "ex1='python python java python java c c python java'\n",
    "res1=func(ex1)\n",
    "print(res1)"
   ]
  },
  {
   "cell_type": "markdown",
   "metadata": {},
   "source": [
    "Q13. Write the Python program to find the minimum window in the given\n",
    "string, which will contains all the characters of another given\n",
    "strings?\n",
    "\n",
    "    Example 1\n",
    "    Input : string1 = \" PRWSOERIUSFK \"\n",
    "    string2 = \" OSU \"\n",
    "    Output: Minimum window is \"OERIUS\""
   ]
  },
  {
   "cell_type": "code",
   "execution_count": 14,
   "metadata": {},
   "outputs": [
    {
     "name": "stdout",
     "output_type": "stream",
     "text": [
      "Minimum window :  SOERIU\n",
      "Minimum window :  thonja\n"
     ]
    }
   ],
   "source": [
    "def func(s1,s2):\n",
    "    \n",
    "    s2_dict=dict()\n",
    "    \n",
    "    for char in s2:\n",
    "        s2_dict[char]=s1.index(char) #firsr occurrence of char in s1\n",
    "        \n",
    "    #return substring with its starting index as minimum of the values in s2_dict.values() and ending index as maximum of the values in s2_dict.values()+1    \n",
    "    return(s1[min(s2_dict.values()) : max(s2_dict.values())+1])\n",
    "\n",
    "string1='PRWSOERIUSFK'\n",
    "string2='OSU'\n",
    "res1=func(string1,string2)\n",
    "print('Minimum window : ',res1)\n",
    "\n",
    "string3='pythonjava'\n",
    "string4='nta'\n",
    "res2=func(string3,string4)\n",
    "print('Minimum window : ',res2)"
   ]
  },
  {
   "cell_type": "markdown",
   "metadata": {},
   "source": [
    "Q14. Write the Python program to count number of substrings from a\n",
    "given string of lowercase alphabets with exactly k distinct (given)\n",
    "characters?\n",
    "\n",
    "    Input a string (lowercase alphabets): wolf\n",
    "    Input k: 4\n",
    "    Number of substrings with exactly 4 distinct characters: 1"
   ]
  },
  {
   "cell_type": "code",
   "execution_count": 15,
   "metadata": {},
   "outputs": [
    {
     "name": "stdout",
     "output_type": "stream",
     "text": [
      "Number of substrings with exactly 3 distinct characters: 4\n"
     ]
    }
   ],
   "source": [
    "def func(s,k):\n",
    "    x=0\n",
    "    count=1\n",
    "    while(s[k+x-1]!=s[len(s)-1]):\n",
    "        x+=1\n",
    "        count+=1\n",
    "        \n",
    "    return(count)\n",
    "\n",
    "ex1='python'\n",
    "num=3\n",
    "res1=func(ex1,num)\n",
    "print(f'Number of substrings with exactly {num} distinct characters: {res1}')"
   ]
  },
  {
   "cell_type": "markdown",
   "metadata": {},
   "source": [
    "Q15. Write the Python program to count number of substrings with same\n",
    "first and last characters of the given string?\n",
    "\n",
    "    Input a string: abcd\n",
    "    4\n"
   ]
  },
  {
   "cell_type": "code",
   "execution_count": 16,
   "metadata": {},
   "outputs": [
    {
     "name": "stdout",
     "output_type": "stream",
     "text": [
      "Input:  abcd \n",
      "Substrings with same first and last character:  4 \n",
      " ['a', 'b', 'c', 'd']\n",
      "Input:  abcbac \n",
      "Substrings with same first and last character:  9 \n",
      " ['a', 'abcba', 'b', 'bcb', 'c', 'cbac', 'b', 'a', 'c']\n"
     ]
    }
   ],
   "source": [
    "def func(s):\n",
    "    substring_list=[]\n",
    "    \n",
    "    for i in range(0,len(s)):\n",
    "        for j in range(0,len(s)):\n",
    "            temp=s[i:j+1]\n",
    "            \n",
    "            if(len(temp)>=1 and temp[0]==temp[-1]):\n",
    "                substring_list.append(temp)\n",
    "                \n",
    "    return(substring_list)\n",
    "\n",
    "ex1='abcd'\n",
    "res1=func(ex1)\n",
    "print('Input: ',ex1,'\\nSubstrings with same first and last character: ',len(res1),'\\n',res1)\n",
    "ex2='abcbac'\n",
    "res2=func(ex2)\n",
    "print('Input: ',ex2,'\\nSubstrings with same first and last character: ',len(res2),'\\n',res2)\n"
   ]
  },
  {
   "cell_type": "markdown",
   "metadata": {},
   "source": [
    "## Great Job!"
   ]
  }
 ],
 "metadata": {
  "kernelspec": {
   "display_name": "Python 3",
   "language": "python",
   "name": "python3"
  },
  "language_info": {
   "codemirror_mode": {
    "name": "ipython",
    "version": 3
   },
   "file_extension": ".py",
   "mimetype": "text/x-python",
   "name": "python",
   "nbconvert_exporter": "python",
   "pygments_lexer": "ipython3",
   "version": "3.7.4"
  }
 },
 "nbformat": 4,
 "nbformat_minor": 2
}
