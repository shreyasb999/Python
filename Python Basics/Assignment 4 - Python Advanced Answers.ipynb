{
 "cells": [
  {
   "cell_type": "markdown",
   "metadata": {},
   "source": [
    "# Assignment 4 Questions"
   ]
  },
  {
   "cell_type": "markdown",
   "metadata": {},
   "source": [
    "## Problem Statement"
   ]
  },
  {
   "cell_type": "markdown",
   "metadata": {},
   "source": [
    "Q.1 Given a sequence of n values x1, x2, ..., xn and a window size k>0, the k-th moving average of\n",
    "the given sequence is defined as follows:\n",
    "\n",
    "The moving average sequence has n-k+1 elements as shown below.\n",
    "The moving averages with k=4 of a ten-value sequence (n=10) is shown below\n",
    "\n",
    "    i 1 2 3 4 5 6 7 8 9 10\n",
    "    ===== == == == == == == == == == ==\n",
    "    Input 10 20 30 40 50 60 70 80 90 100\n",
    "    y1 25 = (10+20+30+40)/4\n",
    "    y2 35 = (20+30+40+50)/4\n",
    "    y3 45 = (30+40+50+60)/4\n",
    "    y4 55 = (40+50+60+70)/4\n",
    "    y5 65 = (50+60+70+80)/4\n",
    "    y6 75 = (60+70+80+90)/4\n",
    "    y7 85 = (70+80+90+100)/4\n",
    "\n",
    "Thus, the moving average sequence has n-k+1=10-4+1=7 values.\n",
    "\n",
    "Write a function to find moving average in an array over a window:\n",
    "\n",
    "Test it over [3, 5, 7, 2, 8, 10, 11, 65, 72, 81, 99, 100, 150] and window of 3."
   ]
  },
  {
   "cell_type": "code",
   "execution_count": 1,
   "metadata": {},
   "outputs": [
    {
     "name": "stdout",
     "output_type": "stream",
     "text": [
      "\n",
      "Input List: [10, 20, 30, 40, 50, 60, 70, 80, 90, 100]\n",
      "Window= 4\n",
      " res1 : (10+20+30+40)/4 = 25.0\n",
      " res2 : (20+30+40+50)/4 = 35.0\n",
      " res3 : (30+40+50+60)/4 = 45.0\n",
      " res4 : (40+50+60+70)/4 = 55.0\n",
      " res5 : (50+60+70+80)/4 = 65.0\n",
      " res6 : (60+70+80+90)/4 = 75.0\n",
      " res7 : (70+80+90+100)/4 = 85.0\n",
      "\n",
      "Input List: [3, 5, 7, 2, 8, 10, 11, 65, 72, 81, 99, 100, 150]\n",
      "Window= 3\n",
      " res1 : (3+5+7)/3 = 5.0\n",
      " res2 : (5+7+2)/3 = 4.67\n",
      " res3 : (7+2+8)/3 = 5.67\n",
      " res4 : (2+8+10)/3 = 6.67\n",
      " res5 : (8+10+11)/3 = 9.67\n",
      " res6 : (10+11+65)/3 = 28.67\n",
      " res7 : (11+65+72)/3 = 49.33\n",
      " res8 : (65+72+81)/3 = 72.67\n",
      " res9 : (72+81+99)/3 = 84.0\n",
      " res10 : (81+99+100)/3 = 93.33\n",
      " res11 : (99+100+150)/3 = 116.33\n"
     ]
    }
   ],
   "source": [
    "def moving_avg(L,k):\n",
    "    n=len(L)\n",
    "    \n",
    "    result=[round(sum(L[i:i+k])/k,2) for i in range(n-k+1)]\n",
    "    \n",
    "    print(\"\\nInput List:\",L)\n",
    "    print(\"Window=\",k)\n",
    "    \n",
    "    for x in range(len(result)):\n",
    "        \n",
    "        print(f' res{x+1} : (',end='')\n",
    "        print(\"+\".join([str(item) for item in L[x:x+k]]),end='')\n",
    "        print(f')/{k} = {result[x]}')\n",
    "        \n",
    "list1= [3, 5, 7, 2, 8, 10, 11, 65, 72, 81, 99, 100, 150]\n",
    "list2=[10,20,30,40,50,60,70,80,90,100]\n",
    "moving_avg(list2,4)\n",
    "\n",
    "moving_avg(list1,3)"
   ]
  },
  {
   "cell_type": "markdown",
   "metadata": {},
   "source": [
    "Q.2 How-to-count-distance-to-the-previous-zero\n",
    "For each value, count the difference back to the previous zero (or the start of the Series,\n",
    "whichever is closer)\n",
    "create a new column 'Y'\n",
    "Consider a DataFrame df where there is an integer column 'X'\n",
    "    \n",
    "    import pandas as pd\n",
    "    df = pd.DataFrame({'X': [7, 2, 0, 3, 4, 2, 5, 0, 3, 4]})"
   ]
  },
  {
   "cell_type": "code",
   "execution_count": 2,
   "metadata": {
    "scrolled": true
   },
   "outputs": [
    {
     "data": {
      "text/html": [
       "<div>\n",
       "<style scoped>\n",
       "    .dataframe tbody tr th:only-of-type {\n",
       "        vertical-align: middle;\n",
       "    }\n",
       "\n",
       "    .dataframe tbody tr th {\n",
       "        vertical-align: top;\n",
       "    }\n",
       "\n",
       "    .dataframe thead th {\n",
       "        text-align: right;\n",
       "    }\n",
       "</style>\n",
       "<table border=\"1\" class=\"dataframe\">\n",
       "  <thead>\n",
       "    <tr style=\"text-align: right;\">\n",
       "      <th></th>\n",
       "      <th>X</th>\n",
       "      <th>Y</th>\n",
       "    </tr>\n",
       "  </thead>\n",
       "  <tbody>\n",
       "    <tr>\n",
       "      <td>0</td>\n",
       "      <td>7</td>\n",
       "      <td>0</td>\n",
       "    </tr>\n",
       "    <tr>\n",
       "      <td>1</td>\n",
       "      <td>2</td>\n",
       "      <td>1</td>\n",
       "    </tr>\n",
       "    <tr>\n",
       "      <td>2</td>\n",
       "      <td>0</td>\n",
       "      <td>0</td>\n",
       "    </tr>\n",
       "    <tr>\n",
       "      <td>3</td>\n",
       "      <td>3</td>\n",
       "      <td>1</td>\n",
       "    </tr>\n",
       "    <tr>\n",
       "      <td>4</td>\n",
       "      <td>4</td>\n",
       "      <td>2</td>\n",
       "    </tr>\n",
       "    <tr>\n",
       "      <td>5</td>\n",
       "      <td>2</td>\n",
       "      <td>3</td>\n",
       "    </tr>\n",
       "    <tr>\n",
       "      <td>6</td>\n",
       "      <td>5</td>\n",
       "      <td>4</td>\n",
       "    </tr>\n",
       "    <tr>\n",
       "      <td>7</td>\n",
       "      <td>0</td>\n",
       "      <td>0</td>\n",
       "    </tr>\n",
       "    <tr>\n",
       "      <td>8</td>\n",
       "      <td>3</td>\n",
       "      <td>1</td>\n",
       "    </tr>\n",
       "    <tr>\n",
       "      <td>9</td>\n",
       "      <td>4</td>\n",
       "      <td>2</td>\n",
       "    </tr>\n",
       "  </tbody>\n",
       "</table>\n",
       "</div>"
      ],
      "text/plain": [
       "   X  Y\n",
       "0  7  0\n",
       "1  2  1\n",
       "2  0  0\n",
       "3  3  1\n",
       "4  4  2\n",
       "5  2  3\n",
       "6  5  4\n",
       "7  0  0\n",
       "8  3  1\n",
       "9  4  2"
      ]
     },
     "execution_count": 2,
     "metadata": {},
     "output_type": "execute_result"
    }
   ],
   "source": [
    "import pandas as pd\n",
    "df=pd.DataFrame({'X': [7,2,0,3,4,2,5,0,3,4]})\n",
    "\n",
    "def Dist_to_prev_zero(L):\n",
    "    list1=[]\n",
    "    for i in range(len(L)):\n",
    "        for x in range(i,-1,-1):\n",
    "            if (L[x]==0):\n",
    "                list1.append(i-x) #distance from previous zero\n",
    "                break\n",
    "            elif(x==0):\n",
    "                list1.append(i-x) #distance from start of series\n",
    "                break\n",
    "                \n",
    "    return(list1)\n",
    "\n",
    "df['Y']=Dist_to_prev_zero(list(df['X']))\n",
    "df"
   ]
  },
  {
   "cell_type": "markdown",
   "metadata": {},
   "source": [
    "Q.3 Create a DatetimeIndex that contains each business day of 2015 and use it to index a Series of\n",
    "random numbers."
   ]
  },
  {
   "cell_type": "code",
   "execution_count": 3,
   "metadata": {},
   "outputs": [
    {
     "name": "stdout",
     "output_type": "stream",
     "text": [
      "2015-01-01   -0.438895\n",
      "2015-01-02   -0.829976\n",
      "2015-01-05    0.154695\n",
      "2015-01-06    0.320750\n",
      "2015-01-07    0.099399\n",
      "                ...   \n",
      "2015-12-25    0.368566\n",
      "2015-12-28   -1.204181\n",
      "2015-12-29   -1.100755\n",
      "2015-12-30    0.113689\n",
      "2015-12-31    0.216494\n",
      "Freq: B, Length: 261, dtype: float64\n"
     ]
    }
   ],
   "source": [
    "import pandas as pd\n",
    "import numpy as np\n",
    "\n",
    "rng =pd.bdate_range('2015-01-01','2015-12-31',freq='B')\n",
    "\n",
    "dates =pd.Series(np.random.randn(len(rng)),index=rng)\n",
    "\n",
    "print(dates)"
   ]
  },
  {
   "cell_type": "code",
   "execution_count": 4,
   "metadata": {},
   "outputs": [
    {
     "data": {
      "text/plain": [
       "DatetimeIndex(['2015-01-01', '2015-01-02', '2015-01-05', '2015-01-06',\n",
       "               '2015-01-07', '2015-01-08', '2015-01-09', '2015-01-12',\n",
       "               '2015-01-13', '2015-01-14',\n",
       "               ...\n",
       "               '2015-12-18', '2015-12-21', '2015-12-22', '2015-12-23',\n",
       "               '2015-12-24', '2015-12-25', '2015-12-28', '2015-12-29',\n",
       "               '2015-12-30', '2015-12-31'],\n",
       "              dtype='datetime64[ns]', length=261, freq='B')"
      ]
     },
     "execution_count": 4,
     "metadata": {},
     "output_type": "execute_result"
    }
   ],
   "source": [
    "dates.index"
   ]
  },
  {
   "cell_type": "code",
   "execution_count": null,
   "metadata": {},
   "outputs": [],
   "source": []
  }
 ],
 "metadata": {
  "kernelspec": {
   "display_name": "Python 3",
   "language": "python",
   "name": "python3"
  },
  "language_info": {
   "codemirror_mode": {
    "name": "ipython",
    "version": 3
   },
   "file_extension": ".py",
   "mimetype": "text/x-python",
   "name": "python",
   "nbconvert_exporter": "python",
   "pygments_lexer": "ipython3",
   "version": "3.7.4"
  }
 },
 "nbformat": 4,
 "nbformat_minor": 2
}
