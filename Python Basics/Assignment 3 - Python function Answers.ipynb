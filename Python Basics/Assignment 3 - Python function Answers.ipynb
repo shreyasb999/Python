{
 "cells": [
  {
   "cell_type": "markdown",
   "metadata": {},
   "source": [
    "## Problem Statement"
   ]
  },
  {
   "cell_type": "markdown",
   "metadata": {},
   "source": [
    "Q.1 Write a function to compute 5/0 and use try/except to catch the exceptions."
   ]
  },
  {
   "cell_type": "code",
   "execution_count": 1,
   "metadata": {},
   "outputs": [
    {
     "name": "stdout",
     "output_type": "stream",
     "text": [
      "Error: division by zero\n",
      "5 / 0 = infinity\n"
     ]
    }
   ],
   "source": [
    "def division(a,b):\n",
    "    try:\n",
    "        print(a,\"/\",b,\"=\",a/b)\n",
    "    except ZeroDivisionError as e:\n",
    "        print(\"Error:\",e)\n",
    "        print(a,\"/\",b,\"= infinity\")\n",
    "        \n",
    "division(5,0)"
   ]
  },
  {
   "cell_type": "markdown",
   "metadata": {},
   "source": [
    "Q.2 Implement a Python program to generate all sentences where subject is in [\"Americans\",\n",
    "\"Indians\"] and verb is in [\"Play\", \"watch\"] and the object is in [\"Baseball\",\"cricket\"].\n",
    "\n",
    "    Hint: Subject,Verb and Object should be declared in the program as shown below.\n",
    "    subjects=[\"Americans \",\"Indians\"]\n",
    "    verbs=[\"play\",\"watch\"]\n",
    "    objects=[\"Baseball\",\"Cricket\"]\n",
    "\n",
    "    Output should come as below:\n",
    "    Americans play Baseball.\n",
    "    Americans play Cricket.\n",
    "    Americans watch Baseball.\n",
    "    Americans watch Cricket.\n",
    "    Indians play Baseball.\n",
    "    Indians play Cricket.\n",
    "    Indians watch Baseball.\n",
    "    Indians watch Cricket."
   ]
  },
  {
   "cell_type": "code",
   "execution_count": 2,
   "metadata": {},
   "outputs": [
    {
     "name": "stdout",
     "output_type": "stream",
     "text": [
      "Americans play Baseball\n",
      "Americans play Cricket\n",
      "Americans watch Baseball\n",
      "Americans watch Cricket\n",
      "Indians play Baseball\n",
      "Indians play Cricket\n",
      "Indians watch Baseball\n",
      "Indians watch Cricket\n"
     ]
    }
   ],
   "source": [
    "subjects=[\"Americans\",\"Indians\"]\n",
    "verbs=[\"play\",\"watch\"]\n",
    "objects=[\"Baseball\",\"Cricket\"]\n",
    "\n",
    "def sentence(S=None,V=None,O=None):\n",
    "    for item1 in S:\n",
    "    \n",
    "        for item2 in V:\n",
    "        \n",
    "            for item3 in O:\n",
    "                print(item1,item2,item3)\n",
    "                \n",
    "sentence(subjects,verbs,objects)"
   ]
  },
  {
   "cell_type": "markdown",
   "metadata": {},
   "source": [
    "Q.3 Write a function so that the columns of the output matrix are powers of the input vector.\n",
    "The order of the powers is determined by the increasing boolean argument. Specifically, when\n",
    "increasing is False, the i-th output column is the input vector raised element-wise to the power\n",
    "of N - i - 1.\n",
    "\n",
    "    HINT: Such a matrix with a geometric progression in each row is named for Alexandre Theophile Vandermonde."
   ]
  },
  {
   "cell_type": "code",
   "execution_count": 3,
   "metadata": {},
   "outputs": [
    {
     "name": "stdout",
     "output_type": "stream",
     "text": [
      "\n",
      "Input Matrix: [2, 3, 4]\n",
      "No. of output Columns: 4\n",
      "Output Matrix: \n",
      "\n",
      "[1, 2, 4, 8]\n",
      "[1, 3, 9, 27]\n",
      "[1, 4, 16, 64]\n",
      "\n",
      "Input Matrix: [2, 3, 4]\n",
      "No. of output Columns: 4\n",
      "Output Matrix: \n",
      "\n",
      "[8, 4, 2, 1]\n",
      "[27, 9, 3, 1]\n",
      "[64, 16, 4, 1]\n"
     ]
    }
   ],
   "source": [
    "def VanderMatrix(X,N=None,increasing=False):\n",
    "    \n",
    "    if (N==None):\n",
    "        N=(len(X))\n",
    "        \n",
    "    if not increasing:\n",
    "        powers=[(N-i-1) for i in range(N)]\n",
    "    else:\n",
    "        powers=[(i) for i in range(N)]\n",
    "        \n",
    "    matrix=[[ele**p for p in powers] for ele in X]\n",
    "    \n",
    "    print(\"\\nInput Matrix:\",X)\n",
    "    print(\"No. of output Columns:\",N)\n",
    "    print(\"Output Matrix: \\n\")\n",
    "    for row in matrix:\n",
    "        print(row)\n",
    "        \n",
    "        \n",
    "inputMatrix=[2,3,4]\n",
    "VanderMatrix(inputMatrix,4,increasing=True)\n",
    "\n",
    "VanderMatrix(inputMatrix,4)"
   ]
  },
  {
   "cell_type": "code",
   "execution_count": null,
   "metadata": {},
   "outputs": [],
   "source": []
  }
 ],
 "metadata": {
  "kernelspec": {
   "display_name": "Python 3",
   "language": "python",
   "name": "python3"
  },
  "language_info": {
   "codemirror_mode": {
    "name": "ipython",
    "version": 3
   },
   "file_extension": ".py",
   "mimetype": "text/x-python",
   "name": "python",
   "nbconvert_exporter": "python",
   "pygments_lexer": "ipython3",
   "version": "3.7.4"
  }
 },
 "nbformat": 4,
 "nbformat_minor": 2
}
